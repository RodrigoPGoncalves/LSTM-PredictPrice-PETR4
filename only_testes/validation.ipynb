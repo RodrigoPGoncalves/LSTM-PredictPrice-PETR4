{
 "cells": [
  {
   "cell_type": "code",
   "execution_count": null,
   "metadata": {},
   "outputs": [],
   "source": [
    "pip install yfinance\n"
   ]
  },
  {
   "cell_type": "code",
   "execution_count": 120,
   "metadata": {},
   "outputs": [
    {
     "name": "stdout",
     "output_type": "stream",
     "text": [
      "Collecting scikit-learn\n",
      "  Downloading scikit_learn-1.3.2-cp38-cp38-manylinux_2_17_x86_64.manylinux2014_x86_64.whl (11.1 MB)\n",
      "\u001b[K     |████████████████████████████████| 11.1 MB 5.3 MB/s eta 0:00:01\n",
      "\u001b[?25hRequirement already satisfied: scipy>=1.5.0 in /home/rodrigo/.local/lib/python3.8/site-packages (from scikit-learn) (1.10.1)\n",
      "Requirement already satisfied: numpy<2.0,>=1.17.3 in /home/rodrigo/.local/lib/python3.8/site-packages (from scikit-learn) (1.24.3)\n",
      "Collecting joblib>=1.1.1\n",
      "  Downloading joblib-1.4.2-py3-none-any.whl (301 kB)\n",
      "\u001b[K     |████████████████████████████████| 301 kB 46.2 MB/s eta 0:00:01\n",
      "\u001b[?25hCollecting threadpoolctl>=2.0.0\n",
      "  Downloading threadpoolctl-3.5.0-py3-none-any.whl (18 kB)\n",
      "Installing collected packages: joblib, threadpoolctl, scikit-learn\n",
      "Successfully installed joblib-1.4.2 scikit-learn-1.3.2 threadpoolctl-3.5.0\n",
      "Note: you may need to restart the kernel to use updated packages.\n"
     ]
    }
   ],
   "source": [
    "pip install scikit-learn\n"
   ]
  },
  {
   "cell_type": "code",
   "execution_count": null,
   "metadata": {},
   "outputs": [],
   "source": [
    "\n",
    "\"\"\"model = Sequential([\n",
    "    LSTM(1000, return_sequences=True, activation='tanh', input_shape=(X_train.shape[1], X_train.shape[2])),\n",
    "    Dropout(0.4),\n",
    "    LSTM(50, return_sequences=False),\n",
    "    Dense(1)  # Output layer for predicting stock_close\n",
    "])\"\"\"\n",
    "\n",
    "\"\"\"\n",
    "model = Sequential([\n",
    "    LSTM(1000, return_sequences=False, activation='tanh', input_shape=(X_train.shape[1], X_train.shape[2])),\n",
    "    Dropout(0.4),\n",
    "    Dense(1)  # Output layer for predicting stock_close\n",
    "]) sequencia 10 prever 7\n",
    "\"\"\"\n",
    "\n",
    "\n",
    "model = Sequential([\n",
    "    LSTM(100, return_sequences=True, input_shape=(X_train.shape[1], X_train.shape[2])),\n",
    "    Dropout(0.4),\n",
    "    LSTM(50, return_sequences=False),\n",
    "    Dropout(0.2),\n",
    "    Dense(1)  # Output layer for predicting stock_close\n",
    "])\n",
    "#model.compile(optimizer='adam', loss='mean_squared_error')\n",
    "#model.fit(X_train, y_train, batch_size=32, epochs=64, verbose=1)\n",
    "#Melhor R2, desejado prever 7, uso sequncial 5\n",
    "\n",
    "\n",
    "\n",
    "\n",
    "# Train the model on the entire dataset\n",
    "\n",
    "\n",
    "# Make predictions\n",
    "\n",
    "\n",
    "\n"
   ]
  },
  {
   "cell_type": "code",
   "execution_count": 5,
   "metadata": {},
   "outputs": [
    {
     "name": "stderr",
     "output_type": "stream",
     "text": [
      "2024-12-03 16:29:37.118918: I tensorflow/tsl/cuda/cudart_stub.cc:28] Could not find cuda drivers on your machine, GPU will not be used.\n",
      "2024-12-03 16:29:37.694549: I tensorflow/tsl/cuda/cudart_stub.cc:28] Could not find cuda drivers on your machine, GPU will not be used.\n",
      "2024-12-03 16:29:37.699438: I tensorflow/core/platform/cpu_feature_guard.cc:182] This TensorFlow binary is optimized to use available CPU instructions in performance-critical operations.\n",
      "To enable the following instructions: AVX2 FMA, in other operations, rebuild TensorFlow with the appropriate compiler flags.\n",
      "2024-12-03 16:29:40.964937: W tensorflow/compiler/tf2tensorrt/utils/py_utils.cc:38] TF-TRT Warning: Could not find TensorRT\n"
     ]
    }
   ],
   "source": [
    "\n",
    "from sklearn.preprocessing import MinMaxScaler\n",
    "import tensorflow as tf\n",
    "from tensorflow.keras.models import Sequential, Model\n",
    "from tensorflow.keras.layers import LSTM, Dense, Dropout, Conv1D, MaxPooling1D\n",
    "from tensorflow.keras.regularizers import l1, l2, l1_l2\n",
    "import matplotlib.pyplot as plt\n",
    "from sklearn.metrics import mean_absolute_error, mean_squared_error, r2_score\n",
    "import numpy as np\n",
    "from datetime import datetime\n",
    "import pandas as pd\n",
    "import os"
   ]
  },
  {
   "cell_type": "code",
   "execution_count": 6,
   "metadata": {},
   "outputs": [],
   "source": [
    "symbol_usdt_to_brl = 'BRL=X'\n",
    "symbol_acao = 'acao.SA'\n",
    "start_date = '2021-02-22'\n",
    "end_date = '2024-11-20'\n",
    "start_date_test_model = '2024-11-21'\n",
    "end_date_test_model = '2024-11-29'\n",
    "path_files_original = \"originalFiles\"\n",
    "path_files_process = \"preprocessFiles\""
   ]
  },
  {
   "cell_type": "code",
   "execution_count": 7,
   "metadata": {},
   "outputs": [],
   "source": [
    "def ajusting_tables_TIOc1(df):\n",
    "    df_a = df\n",
    "    try:\n",
    "        df_a['Data'] = pd.to_datetime(df_a['Data'], format='%d.%m.%Y').dt.strftime('%Y-%m-%d')\n",
    "    except:\n",
    "        print(\"\")\n",
    "    df_a = df_a.iloc[::-1].reset_index(drop=True)\n",
    "    df_a['Data'] = pd.to_datetime(df_a['Data'], format='%Y-%m-%d')\n",
    "\n",
    "    df_a['Último'] = df_a['Último'].str.replace(',', '.').astype(float)\n",
    "    df_a['Abertura'] = df_a['Abertura'].str.replace(',', '.').astype(float)\n",
    "    df_a['Máxima'] = df_a['Máxima'].str.replace(',', '.').astype(float)\n",
    "    df_a['Mínima'] = df_a['Mínima'].str.replace(',', '.').astype(float)\n",
    "\n",
    "    #Pegando apenas colunas necessárias\n",
    "    df_a = df_a[[\"Data\",\"Último\",\"Abertura\",\"Máxima\",\"Mínima\"]]\n",
    "\n",
    "    #Renomeando Colunas\n",
    "    df_a.rename(columns={\"Data\": \"Date\",\"Último\": \"close_TIOc1\", \"Máxima\": \"high_TIOc1\", \"Mínima\": \"low_TIOc1\", \"Abertura\": \"open_TIOc1\"}, inplace=True)\n",
    "    return df_a\n",
    "\n",
    "def ajusting_tables_dolar(df):\n",
    "    df_a = df\n",
    "\n",
    "    df_a = df_a[[\"Price\",\"High\",\"Low\",\"Open\",\"Close\"]]\n",
    "\n",
    "    df_a = df_a.drop([0, 1], axis=0)\n",
    "\n",
    "    df_a.rename(columns={\"Price\":\"Date\",\"Close\": \"close_dolar\", \"High\": \"high_dolar\", \"Low\": \"low_dolar\", \"Open\": \"open_dolar\"}, inplace=True)\n",
    "    df_a = df_a.reset_index(drop=True)\n",
    "    return df_a\n",
    "\n",
    "def ajusting_tables_action(df):\n",
    "    df_b = df\n",
    "\n",
    "    df_b = df_b[[\"Price\",\"High\",\"Low\",\"Open\",\"Volume\",\"Close\"]]\n",
    "\n",
    "    df_b = df_b.drop([0, 1], axis=0)\n",
    "\n",
    "    df_b.rename(columns={\"Price\":\"Date\",\"Close\": \"close_acao\", \"High\": \"high_acao\", \"Low\": \"low_acao\", \"Open\": \"open_acao\", \"Volume\": \"volume_acao\"}, inplace=True)\n",
    "    df_b = df_b.reset_index(drop=True)\n",
    "\n",
    "    return df_b\n",
    "\n",
    "def ajust_dates(df_a, df_b, df_c):\n",
    "    \n",
    "    #Ajustando o shape, por conta de feriados e a bolsa não funcionar, é necessário deixa-los com o mesmo tamanho\n",
    "    df_a['Date'] = pd.to_datetime(df_a['Date'], format='%Y-%m-%d')\n",
    "    df_b['Date'] = pd.to_datetime(df_b['Date'], format='%Y-%m-%d')\n",
    "    df_c['Date'] = pd.to_datetime(df_c['Date'], format='%Y-%m-%d')\n",
    "\n",
    "    common_dates_b_c = set(df_b['Date']).intersection(df_c['Date'])\n",
    "\n",
    "    # Filtre ambos os DataFrames para manter apenas as linhas com datas comuns\n",
    "    df_b = df_b[df_b['Date'].isin(common_dates_b_c)]\n",
    "    df_c = df_c[df_c['Date'].isin(common_dates_b_c)]\n",
    "\n",
    "    # (Opcional) Resetar os índices, já que as linhas foram filtradas\n",
    "    df_b.reset_index(drop=True, inplace=True)\n",
    "    df_c.reset_index(drop=True, inplace=True)\n",
    "    \n",
    "    common_dates_a_c = set(df_a['Date']).intersection(df_c['Date'])\n",
    "    \n",
    "    df_a = df_a[df_a['Date'].isin(common_dates_a_c)]\n",
    "    df_c = df_c[df_c['Date'].isin(common_dates_a_c)]\n",
    "\n",
    "    df_a.reset_index(drop=True, inplace=True)\n",
    "    df_c.reset_index(drop=True, inplace=True)\n",
    "    \n",
    "    #Jutando dataframes\n",
    "    midle = pd.merge(df_a,df_c, on=\"Date\", how=\"inner\")\n",
    "\n",
    "    df_to_process = pd.merge(midle,df_b, on=\"Date\", how=\"inner\").drop(columns=['Date'])\n",
    "    return df_to_process"
   ]
  },
  {
   "cell_type": "code",
   "execution_count": 8,
   "metadata": {},
   "outputs": [],
   "source": [
    "df_acao_origin = pd.read_csv(path_files_original + \"/acao.csv\")\n",
    "df_acao_origin_test_model_origin = pd.read_csv(path_files_original + \"/acao_test_model.csv\")\n",
    "df_usdt_to_brl_origin = pd.read_csv(path_files_original + \"/usdt2brl.csv\")\n",
    "df_iron_ore_TIOc1_origin = pd.read_csv(path_files_original + \"/Contrato Futuro Minério de ferro refinado TIOc1.csv\")\n",
    "df_iron_ore_DCIOF5_origin = pd.read_csv(path_files_original + \"/Contrato Futuro Minério de ferro refinado DCIOF5.csv\")\n",
    "\n",
    "\n",
    "df_dolar = ajusting_tables_dolar(df_usdt_to_brl_origin)\n",
    "df_acao = ajusting_tables_action(df_acao_origin)\n",
    "df_acao_test_model = ajusting_tables_action(df_acao_origin_test_model_origin)\n",
    "df_tioc1 = ajusting_tables_TIOc1(df_iron_ore_TIOc1_origin)\n",
    "df_process = ajust_dates(df_dolar, df_acao, df_tioc1)"
   ]
  },
  {
   "cell_type": "code",
   "execution_count": 49,
   "metadata": {},
   "outputs": [
    {
     "name": "stdout",
     "output_type": "stream",
     "text": [
      "Data final ajustada (após considerar apenas dias úteis): 1970-01-08 00:00:00.000001992\n"
     ]
    },
    {
     "data": {
      "text/html": [
       "<div>\n",
       "<style scoped>\n",
       "    .dataframe tbody tr th:only-of-type {\n",
       "        vertical-align: middle;\n",
       "    }\n",
       "\n",
       "    .dataframe tbody tr th {\n",
       "        vertical-align: top;\n",
       "    }\n",
       "\n",
       "    .dataframe thead th {\n",
       "        text-align: right;\n",
       "    }\n",
       "</style>\n",
       "<table border=\"1\" class=\"dataframe\">\n",
       "  <thead>\n",
       "    <tr style=\"text-align: right;\">\n",
       "      <th></th>\n",
       "      <th>Date</th>\n",
       "    </tr>\n",
       "  </thead>\n",
       "  <tbody>\n",
       "    <tr>\n",
       "      <th>0</th>\n",
       "      <td>1970-01-08 00:00:00.000001992</td>\n",
       "    </tr>\n",
       "    <tr>\n",
       "      <th>1</th>\n",
       "      <td>1970-01-09 00:00:00.000001992</td>\n",
       "    </tr>\n",
       "    <tr>\n",
       "      <th>2</th>\n",
       "      <td>1970-01-12 00:00:00.000001992</td>\n",
       "    </tr>\n",
       "    <tr>\n",
       "      <th>3</th>\n",
       "      <td>1970-01-13 00:00:00.000001992</td>\n",
       "    </tr>\n",
       "    <tr>\n",
       "      <th>4</th>\n",
       "      <td>1970-01-14 00:00:00.000001992</td>\n",
       "    </tr>\n",
       "  </tbody>\n",
       "</table>\n",
       "</div>"
      ],
      "text/plain": [
       "                           Date\n",
       "0 1970-01-08 00:00:00.000001992\n",
       "1 1970-01-09 00:00:00.000001992\n",
       "2 1970-01-12 00:00:00.000001992\n",
       "3 1970-01-13 00:00:00.000001992\n",
       "4 1970-01-14 00:00:00.000001992"
      ]
     },
     "execution_count": 49,
     "metadata": {},
     "output_type": "execute_result"
    }
   ],
   "source": [
    "import pandas as pd\n",
    "\n",
    "# Função para adicionar dias úteis\n",
    "def adicionar_dias_uteis(data_inicial, dias_para_adicionar):\n",
    "    # Converte a data para o formato pandas datetime\n",
    "    data_inicial = pd.to_datetime(data_inicial)\n",
    "    \n",
    "    # Adiciona os dias úteis à data inicial\n",
    "    dias_adicionados = 0\n",
    "    while dias_adicionados < dias_para_adicionar:\n",
    "        data_inicial += pd.Timedelta(days=1)\n",
    "        if data_inicial.weekday() < 5:  # Se for um dia útil (segunda a sexta)\n",
    "            dias_adicionados += 1\n",
    "    \n",
    "    return data_inicial\n",
    "\n",
    "# Exemplo de uso\n",
    "data_inicial = '2024-11-21'\n",
    "dias_para_adicionar = 5\n",
    "\n",
    "data_final = adicionar_dias_uteis(data_inicial, dias_para_adicionar)\n",
    "print(\"Data final ajustada (após considerar apenas dias úteis):\", data_final)\n",
    "\n",
    "pd.DataFrame(pd.date_range(start=data_final, periods=5, freq='B'), columns=[\"Date\"])"
   ]
  },
  {
   "cell_type": "code",
   "execution_count": 44,
   "metadata": {},
   "outputs": [
    {
     "data": {
      "text/plain": [
       "742"
      ]
     },
     "execution_count": 44,
     "metadata": {},
     "output_type": "execute_result"
    }
   ],
   "source": [
    "df_process.shape[0]"
   ]
  },
  {
   "cell_type": "code",
   "execution_count": null,
   "metadata": {},
   "outputs": [],
   "source": [
    "target = \"close_acao\"\n",
    "sequence_length = 10\n",
    "df_process = df_process\n",
    "features = df_process.columns[0:-1].to_list()\n",
    "scaler = MinMaxScaler()\n",
    "value_train_split = 0.8\n",
    "batch_size = 32\n",
    "epochs = 64\n",
    "wish_perid_to_predict = 7\n",
    "\n",
    "scaled_data = scaler.fit_transform(df_process[features + [target]])\n",
    "\n",
    "X, y = [], []\n",
    "for i in range(sequence_length, len(scaled_data)):\n",
    "    X.append(scaled_data[i-sequence_length:i, :-1])  \n",
    "    y.append(scaled_data[i, -1]) \n",
    "\n",
    "X = np.array(X)\n",
    "y = np.array(y)\n",
    "\n",
    "train_size = int(len(X) * value_train_split )\n",
    "X_train, X_test = X[:train_size], X[train_size:]\n",
    "y_train, y_test = y[:train_size], y[train_size:]\n",
    "\n",
    "model = Sequential([\n",
    "            LSTM(50, return_sequences=True, input_shape=(X_train.shape[1], X_train.shape[2])),\n",
    "            Dropout(0.4),\n",
    "            LSTM(50, return_sequences=False),\n",
    "            Dropout(0.2),\n",
    "            Dense(1)  # Output layer for predicting stock_close\n",
    "        ])\n",
    "model.compile(optimizer='adam', loss='mean_squared_error')\n",
    "model.fit(X_train, y_train, batch_size=32, epochs=32, verbose=1)\n",
    "predictions = model.predict(X_test)\n",
    "\n",
    "rescaled_predictions = scaler.inverse_transform(\n",
    "    np.hstack((np.zeros((len(predictions), len(features))), predictions.reshape(-1, 1)))\n",
    ")[:, -1]  # Rescale only the predicted close price\n",
    "\n",
    "# Rescale actual values\n",
    "actual_close = scaler.inverse_transform(\n",
    "    np.hstack((np.zeros((len(y_test), len(features))), y_test.reshape(-1, 1)))\n",
    ")[:, -1]"
   ]
  },
  {
   "cell_type": "code",
   "execution_count": null,
   "metadata": {},
   "outputs": [],
   "source": [
    "import yfinance as yf\n",
    "\n",
    "\n",
    "start_date_test_model = '2024-11-21'\n",
    "end_date_test_model = '2024-11-28'\n",
    "wish_perid_to_predict = 7\n",
    "sequence_length = 3\n",
    "\n",
    "#Ultimo sequence_length valores usados para o treinamento\n",
    "last_sequence = scaled_data[-sequence_length:, :-1] #Sem a coluna target\n",
    "future_predictions = []\n",
    "\n",
    "for i in range(wish_perid_to_predict):\n",
    "    last_sequence_reshaped = np.expand_dims(last_sequence, axis=0)\n",
    "\n",
    "    next_prediction = model.predict(last_sequence_reshaped)[0, 0]  # Saída única\n",
    "\n",
    "    future_predictions.append(next_prediction)\n",
    "\n",
    "\n",
    "    next_sequence = np.append(last_sequence[1:], [[*last_sequence[-1, :-1], next_prediction]], axis=0)\n",
    "\n",
    "    last_sequence = next_sequence\n",
    "\n",
    "\n",
    "\n",
    "# Reverter a escala das previsões para a escala original\n",
    "rescaled_future_predictions = scaler.inverse_transform(\n",
    "    np.hstack((np.zeros((len(future_predictions), len(features))), np.array(future_predictions).reshape(-1, 1)))\n",
    ")[:, -1]\n",
    "\n",
    "prediction_dates = pd.date_range(start='2024-11-21', periods=wish_perid_to_predict, freq='B')\n",
    "filter_dates_hist = df_acao[df_acao[\"Date\"] >= \"2024-10-01\"]\n",
    "\n",
    "combined_dates = pd.concat([filter_dates_hist['Date'],df_acao_test_model[\"Date\"]])\n",
    "\n",
    "values_actual = np.concatenate([actual_close[-filter_dates_hist[target].count():], df_acao_test_model[target].to_numpy()])\n",
    "\n",
    "# Plotar os resultados\n",
    "plt.figure(figsize=(14, 7))\n",
    "\n",
    "plt.plot(combined_dates, values_actual, label='Dados Históricos', color='blue', marker='o')\n",
    "\n",
    "plt.plot(filter_dates_hist['Date'], rescaled_predictions[-filter_dates_hist[target].count():], label='Dados Previstos', color='red', marker='o')\n",
    "\n",
    "plt.plot(prediction_dates, rescaled_future_predictions, label='Dados Previstos', color='orange', marker='o')\n",
    "plt.title('Previsões de Preço de Fechamento')\n",
    "plt.xlabel('Datas')\n",
    "plt.ylabel('Preço de Fechamento')\n",
    "plt.legend()\n",
    "plt.grid(True)\n",
    "plt.show()"
   ]
  },
  {
   "cell_type": "code",
   "execution_count": null,
   "metadata": {},
   "outputs": [],
   "source": [
    "import yfinance as yf\n",
    "\n",
    "\n",
    "start_date_test_model = '2024-11-21'\n",
    "end_date_test_model = '2024-11-28'\n",
    "wish_perid_to_predict = 7\n",
    "sequence_length = 3\n",
    "\n",
    "#Ultimo sequence_length valores usados para o treinamento\n",
    "last_sequence = scaled_data[-sequence_length:, :-1] #Sem a coluna target\n",
    "future_predictions = []\n",
    "\n",
    "for i in range(wish_perid_to_predict):\n",
    "    last_sequence_reshaped = np.expand_dims(last_sequence, axis=0)\n",
    "\n",
    "    next_prediction = model.predict(last_sequence_reshaped)[0, 0]  # Saída única\n",
    "\n",
    "    future_predictions.append(next_prediction)\n",
    "\n",
    "\n",
    "    next_sequence = np.append(last_sequence[1:], [[*last_sequence[-1, :-1], next_prediction]], axis=0)\n",
    "\n",
    "    last_sequence = next_sequence\n",
    "\n",
    "\n",
    "\n",
    "# Reverter a escala das previsões para a escala original\n",
    "rescaled_future_predictions = scaler.inverse_transform(\n",
    "    np.hstack((np.zeros((len(future_predictions), len(features))), np.array(future_predictions).reshape(-1, 1)))\n",
    ")[:, -1]\n",
    "\n",
    "\n",
    "date_predict = pd.DataFrame(pd.date_range(start=df_acao_test_model[\"Date\"][0], periods=wish_perid_to_predict, freq='B'), columns=[\"Date\"])\n",
    "# Plotar os resultados\n",
    "plt.figure(figsize=(14, 7))\n",
    "plt.plot(pd.to_datetime(df_acao_test_model[\"Date\"]), df_acao_test_model[target], label='Dados Históricos', color='blue', marker='o')\n",
    "plt.plot(date_predict, rescaled_future_predictions, label='Dados Previstos', color='orange', marker='o')\n",
    "plt.title('Previsões de Preço de Fechamento')\n",
    "plt.xlabel('Datas')\n",
    "plt.ylabel('Preço de Fechamento')\n",
    "plt.legend()\n",
    "plt.grid(True)\n",
    "plt.show()"
   ]
  },
  {
   "cell_type": "code",
   "execution_count": 3,
   "metadata": {},
   "outputs": [
    {
     "data": {
      "application/vnd.plotly.v1+json": {
       "config": {
        "plotlyServerURL": "https://plot.ly"
       },
       "data": [
        {
         "line": {
          "color": "blue"
         },
         "mode": "lines+markers",
         "name": "Dados Históricos",
         "type": "scatter",
         "x": [
          "2024-11-21T00:00:00",
          "2024-11-22T00:00:00",
          "2024-11-25T00:00:00",
          "2024-11-26T00:00:00",
          "2024-11-27T00:00:00",
          "2024-11-28T00:00:00"
         ],
         "y": [
          5.110000133514404,
          5.190000057220459,
          5.21999979019165,
          5.170000076293945,
          5.199999809265137,
          5.130000114440918
         ]
        },
        {
         "line": {
          "color": "orange"
         },
         "mode": "lines+markers",
         "name": "Previsão LSTM",
         "type": "scatter",
         "x": [
          "2024-11-21T00:00:00",
          "2024-11-22T00:00:00",
          "2024-11-25T00:00:00",
          "2024-11-26T00:00:00",
          "2024-11-27T00:00:00"
         ],
         "y": [
          5.2537069959272165,
          5.264688588487188,
          5.262257691854784,
          5.289070754079574,
          5.289379155648134
         ]
        },
        {
         "line": {
          "color": "red"
         },
         "mode": "lines+markers",
         "name": "Previsão LSTM Bidirecional",
         "type": "scatter",
         "x": [
          "2024-11-21T00:00:00",
          "2024-11-22T00:00:00",
          "2024-11-25T00:00:00",
          "2024-11-26T00:00:00",
          "2024-11-27T00:00:00"
         ],
         "y": [
          5.088874301638454,
          5.119208305414147,
          5.135722258954927,
          5.1474337163126185,
          5.14820216677117
         ]
        },
        {
         "line": {
          "color": "gray"
         },
         "mode": "lines+markers",
         "name": "Previsão LSTM + Attention",
         "type": "scatter",
         "x": [
          "2024-11-21T00:00:00",
          "2024-11-22T00:00:00",
          "2024-11-25T00:00:00",
          "2024-11-26T00:00:00",
          "2024-11-27T00:00:00"
         ],
         "y": [
          5.0401267098212506,
          5.056832031216671,
          5.052904663495609,
          5.080409430434428,
          5.080752587469546
         ]
        },
        {
         "line": {
          "color": "green"
         },
         "mode": "lines+markers",
         "name": "Previsão LSTM + CNN",
         "type": "scatter",
         "x": [
          "2024-11-21T00:00:00",
          "2024-11-22T00:00:00",
          "2024-11-25T00:00:00",
          "2024-11-26T00:00:00",
          "2024-11-27T00:00:00"
         ],
         "y": [
          5.054553207482839,
          5.065512670031452,
          5.066775073692269,
          4.996003297364836,
          4.995404510326707
         ]
        },
        {
         "line": {
          "color": "pink"
         },
         "mode": "lines+markers",
         "name": "Previsão LSTM Bi-Attention + CNN",
         "type": "scatter",
         "x": [
          "2024-11-21T00:00:00",
          "2024-11-22T00:00:00",
          "2024-11-25T00:00:00",
          "2024-11-26T00:00:00",
          "2024-11-27T00:00:00"
         ],
         "y": [
          5.252298051870667,
          5.246177259562173,
          5.259210701380495,
          5.221314333658909,
          5.184980827060058
         ]
        }
       ],
       "layout": {
        "legend": {
         "title": {
          "text": "Modelos"
         }
        },
        "template": {
         "data": {
          "bar": [
           {
            "error_x": {
             "color": "#2a3f5f"
            },
            "error_y": {
             "color": "#2a3f5f"
            },
            "marker": {
             "line": {
              "color": "white",
              "width": 0.5
             },
             "pattern": {
              "fillmode": "overlay",
              "size": 10,
              "solidity": 0.2
             }
            },
            "type": "bar"
           }
          ],
          "barpolar": [
           {
            "marker": {
             "line": {
              "color": "white",
              "width": 0.5
             },
             "pattern": {
              "fillmode": "overlay",
              "size": 10,
              "solidity": 0.2
             }
            },
            "type": "barpolar"
           }
          ],
          "carpet": [
           {
            "aaxis": {
             "endlinecolor": "#2a3f5f",
             "gridcolor": "#C8D4E3",
             "linecolor": "#C8D4E3",
             "minorgridcolor": "#C8D4E3",
             "startlinecolor": "#2a3f5f"
            },
            "baxis": {
             "endlinecolor": "#2a3f5f",
             "gridcolor": "#C8D4E3",
             "linecolor": "#C8D4E3",
             "minorgridcolor": "#C8D4E3",
             "startlinecolor": "#2a3f5f"
            },
            "type": "carpet"
           }
          ],
          "choropleth": [
           {
            "colorbar": {
             "outlinewidth": 0,
             "ticks": ""
            },
            "type": "choropleth"
           }
          ],
          "contour": [
           {
            "colorbar": {
             "outlinewidth": 0,
             "ticks": ""
            },
            "colorscale": [
             [
              0,
              "#0d0887"
             ],
             [
              0.1111111111111111,
              "#46039f"
             ],
             [
              0.2222222222222222,
              "#7201a8"
             ],
             [
              0.3333333333333333,
              "#9c179e"
             ],
             [
              0.4444444444444444,
              "#bd3786"
             ],
             [
              0.5555555555555556,
              "#d8576b"
             ],
             [
              0.6666666666666666,
              "#ed7953"
             ],
             [
              0.7777777777777778,
              "#fb9f3a"
             ],
             [
              0.8888888888888888,
              "#fdca26"
             ],
             [
              1,
              "#f0f921"
             ]
            ],
            "type": "contour"
           }
          ],
          "contourcarpet": [
           {
            "colorbar": {
             "outlinewidth": 0,
             "ticks": ""
            },
            "type": "contourcarpet"
           }
          ],
          "heatmap": [
           {
            "colorbar": {
             "outlinewidth": 0,
             "ticks": ""
            },
            "colorscale": [
             [
              0,
              "#0d0887"
             ],
             [
              0.1111111111111111,
              "#46039f"
             ],
             [
              0.2222222222222222,
              "#7201a8"
             ],
             [
              0.3333333333333333,
              "#9c179e"
             ],
             [
              0.4444444444444444,
              "#bd3786"
             ],
             [
              0.5555555555555556,
              "#d8576b"
             ],
             [
              0.6666666666666666,
              "#ed7953"
             ],
             [
              0.7777777777777778,
              "#fb9f3a"
             ],
             [
              0.8888888888888888,
              "#fdca26"
             ],
             [
              1,
              "#f0f921"
             ]
            ],
            "type": "heatmap"
           }
          ],
          "heatmapgl": [
           {
            "colorbar": {
             "outlinewidth": 0,
             "ticks": ""
            },
            "colorscale": [
             [
              0,
              "#0d0887"
             ],
             [
              0.1111111111111111,
              "#46039f"
             ],
             [
              0.2222222222222222,
              "#7201a8"
             ],
             [
              0.3333333333333333,
              "#9c179e"
             ],
             [
              0.4444444444444444,
              "#bd3786"
             ],
             [
              0.5555555555555556,
              "#d8576b"
             ],
             [
              0.6666666666666666,
              "#ed7953"
             ],
             [
              0.7777777777777778,
              "#fb9f3a"
             ],
             [
              0.8888888888888888,
              "#fdca26"
             ],
             [
              1,
              "#f0f921"
             ]
            ],
            "type": "heatmapgl"
           }
          ],
          "histogram": [
           {
            "marker": {
             "pattern": {
              "fillmode": "overlay",
              "size": 10,
              "solidity": 0.2
             }
            },
            "type": "histogram"
           }
          ],
          "histogram2d": [
           {
            "colorbar": {
             "outlinewidth": 0,
             "ticks": ""
            },
            "colorscale": [
             [
              0,
              "#0d0887"
             ],
             [
              0.1111111111111111,
              "#46039f"
             ],
             [
              0.2222222222222222,
              "#7201a8"
             ],
             [
              0.3333333333333333,
              "#9c179e"
             ],
             [
              0.4444444444444444,
              "#bd3786"
             ],
             [
              0.5555555555555556,
              "#d8576b"
             ],
             [
              0.6666666666666666,
              "#ed7953"
             ],
             [
              0.7777777777777778,
              "#fb9f3a"
             ],
             [
              0.8888888888888888,
              "#fdca26"
             ],
             [
              1,
              "#f0f921"
             ]
            ],
            "type": "histogram2d"
           }
          ],
          "histogram2dcontour": [
           {
            "colorbar": {
             "outlinewidth": 0,
             "ticks": ""
            },
            "colorscale": [
             [
              0,
              "#0d0887"
             ],
             [
              0.1111111111111111,
              "#46039f"
             ],
             [
              0.2222222222222222,
              "#7201a8"
             ],
             [
              0.3333333333333333,
              "#9c179e"
             ],
             [
              0.4444444444444444,
              "#bd3786"
             ],
             [
              0.5555555555555556,
              "#d8576b"
             ],
             [
              0.6666666666666666,
              "#ed7953"
             ],
             [
              0.7777777777777778,
              "#fb9f3a"
             ],
             [
              0.8888888888888888,
              "#fdca26"
             ],
             [
              1,
              "#f0f921"
             ]
            ],
            "type": "histogram2dcontour"
           }
          ],
          "mesh3d": [
           {
            "colorbar": {
             "outlinewidth": 0,
             "ticks": ""
            },
            "type": "mesh3d"
           }
          ],
          "parcoords": [
           {
            "line": {
             "colorbar": {
              "outlinewidth": 0,
              "ticks": ""
             }
            },
            "type": "parcoords"
           }
          ],
          "pie": [
           {
            "automargin": true,
            "type": "pie"
           }
          ],
          "scatter": [
           {
            "fillpattern": {
             "fillmode": "overlay",
             "size": 10,
             "solidity": 0.2
            },
            "type": "scatter"
           }
          ],
          "scatter3d": [
           {
            "line": {
             "colorbar": {
              "outlinewidth": 0,
              "ticks": ""
             }
            },
            "marker": {
             "colorbar": {
              "outlinewidth": 0,
              "ticks": ""
             }
            },
            "type": "scatter3d"
           }
          ],
          "scattercarpet": [
           {
            "marker": {
             "colorbar": {
              "outlinewidth": 0,
              "ticks": ""
             }
            },
            "type": "scattercarpet"
           }
          ],
          "scattergeo": [
           {
            "marker": {
             "colorbar": {
              "outlinewidth": 0,
              "ticks": ""
             }
            },
            "type": "scattergeo"
           }
          ],
          "scattergl": [
           {
            "marker": {
             "colorbar": {
              "outlinewidth": 0,
              "ticks": ""
             }
            },
            "type": "scattergl"
           }
          ],
          "scattermapbox": [
           {
            "marker": {
             "colorbar": {
              "outlinewidth": 0,
              "ticks": ""
             }
            },
            "type": "scattermapbox"
           }
          ],
          "scatterpolar": [
           {
            "marker": {
             "colorbar": {
              "outlinewidth": 0,
              "ticks": ""
             }
            },
            "type": "scatterpolar"
           }
          ],
          "scatterpolargl": [
           {
            "marker": {
             "colorbar": {
              "outlinewidth": 0,
              "ticks": ""
             }
            },
            "type": "scatterpolargl"
           }
          ],
          "scatterternary": [
           {
            "marker": {
             "colorbar": {
              "outlinewidth": 0,
              "ticks": ""
             }
            },
            "type": "scatterternary"
           }
          ],
          "surface": [
           {
            "colorbar": {
             "outlinewidth": 0,
             "ticks": ""
            },
            "colorscale": [
             [
              0,
              "#0d0887"
             ],
             [
              0.1111111111111111,
              "#46039f"
             ],
             [
              0.2222222222222222,
              "#7201a8"
             ],
             [
              0.3333333333333333,
              "#9c179e"
             ],
             [
              0.4444444444444444,
              "#bd3786"
             ],
             [
              0.5555555555555556,
              "#d8576b"
             ],
             [
              0.6666666666666666,
              "#ed7953"
             ],
             [
              0.7777777777777778,
              "#fb9f3a"
             ],
             [
              0.8888888888888888,
              "#fdca26"
             ],
             [
              1,
              "#f0f921"
             ]
            ],
            "type": "surface"
           }
          ],
          "table": [
           {
            "cells": {
             "fill": {
              "color": "#EBF0F8"
             },
             "line": {
              "color": "white"
             }
            },
            "header": {
             "fill": {
              "color": "#C8D4E3"
             },
             "line": {
              "color": "white"
             }
            },
            "type": "table"
           }
          ]
         },
         "layout": {
          "annotationdefaults": {
           "arrowcolor": "#2a3f5f",
           "arrowhead": 0,
           "arrowwidth": 1
          },
          "autotypenumbers": "strict",
          "coloraxis": {
           "colorbar": {
            "outlinewidth": 0,
            "ticks": ""
           }
          },
          "colorscale": {
           "diverging": [
            [
             0,
             "#8e0152"
            ],
            [
             0.1,
             "#c51b7d"
            ],
            [
             0.2,
             "#de77ae"
            ],
            [
             0.3,
             "#f1b6da"
            ],
            [
             0.4,
             "#fde0ef"
            ],
            [
             0.5,
             "#f7f7f7"
            ],
            [
             0.6,
             "#e6f5d0"
            ],
            [
             0.7,
             "#b8e186"
            ],
            [
             0.8,
             "#7fbc41"
            ],
            [
             0.9,
             "#4d9221"
            ],
            [
             1,
             "#276419"
            ]
           ],
           "sequential": [
            [
             0,
             "#0d0887"
            ],
            [
             0.1111111111111111,
             "#46039f"
            ],
            [
             0.2222222222222222,
             "#7201a8"
            ],
            [
             0.3333333333333333,
             "#9c179e"
            ],
            [
             0.4444444444444444,
             "#bd3786"
            ],
            [
             0.5555555555555556,
             "#d8576b"
            ],
            [
             0.6666666666666666,
             "#ed7953"
            ],
            [
             0.7777777777777778,
             "#fb9f3a"
            ],
            [
             0.8888888888888888,
             "#fdca26"
            ],
            [
             1,
             "#f0f921"
            ]
           ],
           "sequentialminus": [
            [
             0,
             "#0d0887"
            ],
            [
             0.1111111111111111,
             "#46039f"
            ],
            [
             0.2222222222222222,
             "#7201a8"
            ],
            [
             0.3333333333333333,
             "#9c179e"
            ],
            [
             0.4444444444444444,
             "#bd3786"
            ],
            [
             0.5555555555555556,
             "#d8576b"
            ],
            [
             0.6666666666666666,
             "#ed7953"
            ],
            [
             0.7777777777777778,
             "#fb9f3a"
            ],
            [
             0.8888888888888888,
             "#fdca26"
            ],
            [
             1,
             "#f0f921"
            ]
           ]
          },
          "colorway": [
           "#636efa",
           "#EF553B",
           "#00cc96",
           "#ab63fa",
           "#FFA15A",
           "#19d3f3",
           "#FF6692",
           "#B6E880",
           "#FF97FF",
           "#FECB52"
          ],
          "font": {
           "color": "#2a3f5f"
          },
          "geo": {
           "bgcolor": "white",
           "lakecolor": "white",
           "landcolor": "white",
           "showlakes": true,
           "showland": true,
           "subunitcolor": "#C8D4E3"
          },
          "hoverlabel": {
           "align": "left"
          },
          "hovermode": "closest",
          "mapbox": {
           "style": "light"
          },
          "paper_bgcolor": "white",
          "plot_bgcolor": "white",
          "polar": {
           "angularaxis": {
            "gridcolor": "#EBF0F8",
            "linecolor": "#EBF0F8",
            "ticks": ""
           },
           "bgcolor": "white",
           "radialaxis": {
            "gridcolor": "#EBF0F8",
            "linecolor": "#EBF0F8",
            "ticks": ""
           }
          },
          "scene": {
           "xaxis": {
            "backgroundcolor": "white",
            "gridcolor": "#DFE8F3",
            "gridwidth": 2,
            "linecolor": "#EBF0F8",
            "showbackground": true,
            "ticks": "",
            "zerolinecolor": "#EBF0F8"
           },
           "yaxis": {
            "backgroundcolor": "white",
            "gridcolor": "#DFE8F3",
            "gridwidth": 2,
            "linecolor": "#EBF0F8",
            "showbackground": true,
            "ticks": "",
            "zerolinecolor": "#EBF0F8"
           },
           "zaxis": {
            "backgroundcolor": "white",
            "gridcolor": "#DFE8F3",
            "gridwidth": 2,
            "linecolor": "#EBF0F8",
            "showbackground": true,
            "ticks": "",
            "zerolinecolor": "#EBF0F8"
           }
          },
          "shapedefaults": {
           "line": {
            "color": "#2a3f5f"
           }
          },
          "ternary": {
           "aaxis": {
            "gridcolor": "#DFE8F3",
            "linecolor": "#A2B1C6",
            "ticks": ""
           },
           "baxis": {
            "gridcolor": "#DFE8F3",
            "linecolor": "#A2B1C6",
            "ticks": ""
           },
           "bgcolor": "white",
           "caxis": {
            "gridcolor": "#DFE8F3",
            "linecolor": "#A2B1C6",
            "ticks": ""
           }
          },
          "title": {
           "x": 0.05
          },
          "xaxis": {
           "automargin": true,
           "gridcolor": "#EBF0F8",
           "linecolor": "#EBF0F8",
           "ticks": "",
           "title": {
            "standoff": 15
           },
           "zerolinecolor": "#EBF0F8",
           "zerolinewidth": 2
          },
          "yaxis": {
           "automargin": true,
           "gridcolor": "#EBF0F8",
           "linecolor": "#EBF0F8",
           "ticks": "",
           "title": {
            "standoff": 15
           },
           "zerolinecolor": "#EBF0F8",
           "zerolinewidth": 2
          }
         }
        },
        "title": {
         "text": "Previsões de Preço de Fechamento"
        },
        "xaxis": {
         "title": {
          "text": "Datas"
         }
        },
        "yaxis": {
         "title": {
          "text": "Preço de Fechamento"
         }
        }
       }
      }
     },
     "metadata": {},
     "output_type": "display_data"
    }
   ],
   "source": [
    "import plotly.graph_objects as go\n",
    "\n",
    "data = {\n",
    "    'df_acao_test_model': [\n",
    "        {'Date': '2024-11-21', 'close_acao': 5.110000133514404},\n",
    "        {'Date': '2024-11-22', 'close_acao': 5.190000057220459},\n",
    "        {'Date': '2024-11-25', 'close_acao': 5.21999979019165},\n",
    "        {'Date': '2024-11-26', 'close_acao': 5.170000076293945},\n",
    "        {'Date': '2024-11-27', 'close_acao': 5.199999809265137},\n",
    "        {'Date': '2024-11-28', 'close_acao': 5.130000114440918}\n",
    "    ],\n",
    "    'date_predict': ['2024-11-21', '2024-11-22', '2024-11-25', '2024-11-26', '2024-11-27'],\n",
    "    'predict_sample_lstm': [5.2537069959272165, 5.264688588487188, 5.262257691854784, 5.289070754079574, 5.289379155648134],\n",
    "    'predict_lstm_bidirecional': [5.088874301638454, 5.119208305414147, 5.135722258954927, 5.1474337163126185, 5.14820216677117],\n",
    "    'predict_lstm_attention': [5.0401267098212506, 5.056832031216671, 5.052904663495609, 5.080409430434428, 5.080752587469546],\n",
    "    'predict_lstm_cnn': [5.054553207482839, 5.065512670031452, 5.066775073692269, 4.996003297364836, 4.995404510326707],\n",
    "    'predict_lstm_bi_atten_cnn': [5.252298051870667, 5.246177259562173, 5.259210701380495, 5.221314333658909, 5.184980827060058]\n",
    "}\n",
    "\n",
    "# Convertendo o JSON em DataFrames\n",
    "df_acao_test_model = pd.DataFrame(data['df_acao_test_model'])\n",
    "df_acao_test_model['Date'] = pd.to_datetime(df_acao_test_model['Date'])\n",
    "\n",
    "date_predict = pd.to_datetime(data['date_predict'])\n",
    "\n",
    "# Criando o gráfico interativo\n",
    "fig = go.Figure()\n",
    "\n",
    "# Adicionando os dados históricos\n",
    "fig.add_trace(go.Scatter(\n",
    "    x=df_acao_test_model['Date'],\n",
    "    y=df_acao_test_model['close_acao'],\n",
    "    mode='lines+markers',\n",
    "    name='Dados Históricos',\n",
    "    line=dict(color='blue')\n",
    "))\n",
    "\n",
    "# Adicionando previsões\n",
    "fig.add_trace(go.Scatter(\n",
    "    x=date_predict,\n",
    "    y=data['predict_sample_lstm'],\n",
    "    mode='lines+markers',\n",
    "    name='Previsão LSTM',\n",
    "    line=dict(color='orange')\n",
    "))\n",
    "\n",
    "fig.add_trace(go.Scatter(\n",
    "    x=date_predict,\n",
    "    y=data['predict_lstm_bidirecional'],\n",
    "    mode='lines+markers',\n",
    "    name='Previsão LSTM Bidirecional',\n",
    "    line=dict(color='red')\n",
    "))\n",
    "\n",
    "fig.add_trace(go.Scatter(\n",
    "    x=date_predict,\n",
    "    y=data['predict_lstm_attention'],\n",
    "    mode='lines+markers',\n",
    "    name='Previsão LSTM + Attention',\n",
    "    line=dict(color='gray')\n",
    "))\n",
    "\n",
    "fig.add_trace(go.Scatter(\n",
    "    x=date_predict,\n",
    "    y=data['predict_lstm_cnn'],\n",
    "    mode='lines+markers',\n",
    "    name='Previsão LSTM + CNN',\n",
    "    line=dict(color='green')\n",
    "))\n",
    "\n",
    "fig.add_trace(go.Scatter(\n",
    "    x=date_predict,\n",
    "    y=data['predict_lstm_bi_atten_cnn'],\n",
    "    mode='lines+markers',\n",
    "    name='Previsão LSTM Bi-Attention + CNN',\n",
    "    line=dict(color='pink')\n",
    "))\n",
    "\n",
    "# Customizando o layout\n",
    "fig.update_layout(\n",
    "    title='Previsões de Preço de Fechamento',\n",
    "    xaxis_title='Datas',\n",
    "    yaxis_title='Preço de Fechamento',\n",
    "    legend_title='Modelos',\n",
    "    template='plotly_white'\n",
    ")\n",
    "\n",
    "# Exibindo o gráfico\n",
    "fig.show()"
   ]
  }
 ],
 "metadata": {
  "kernelspec": {
   "display_name": "Python 3",
   "language": "python",
   "name": "python3"
  },
  "language_info": {
   "codemirror_mode": {
    "name": "ipython",
    "version": 3
   },
   "file_extension": ".py",
   "mimetype": "text/x-python",
   "name": "python",
   "nbconvert_exporter": "python",
   "pygments_lexer": "ipython3",
   "version": "3.8.10"
  }
 },
 "nbformat": 4,
 "nbformat_minor": 2
}
